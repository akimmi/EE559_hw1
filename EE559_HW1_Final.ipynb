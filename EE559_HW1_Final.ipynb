{
  "nbformat": 4,
  "nbformat_minor": 0,
  "metadata": {
    "colab": {
      "provenance": []
    },
    "kernelspec": {
      "name": "python3",
      "display_name": "Python 3"
    },
    "language_info": {
      "name": "python"
    }
  },
  "cells": [
    {
      "cell_type": "markdown",
      "source": [
        "# Importing Libraries\n",
        "\n",
        "Currently using numpy, matplotlib, pandas, and scipy"
      ],
      "metadata": {
        "id": "cTBwzPK7Jvrn"
      }
    },
    {
      "cell_type": "code",
      "execution_count": null,
      "metadata": {
        "id": "Zuc1qzLjqtgN"
      },
      "outputs": [],
      "source": [
        "import numpy as np \n",
        "import matplotlib.pyplot as plt\n",
        "import pandas as pd \n",
        "from scipy.spatial.distance import cdist"
      ]
    },
    {
      "cell_type": "markdown",
      "source": [
        "# Reading in Datasets and saving them\n",
        "\n",
        "This code shows the reading of the traning and testing data sets. These are stored in my personal github for easier access."
      ],
      "metadata": {
        "id": "4DIwUbTSJ5ob"
      }
    },
    {
      "cell_type": "code",
      "source": [
        "# Put the test model\n",
        "dataset1_test = pd.read_csv(\"https://raw.githubusercontent.com/akimmi/EE559_hw1/main/dataset1_test.csv\", header = None)\n",
        "dataset2_test = pd.read_csv(\"https://raw.githubusercontent.com/akimmi/EE559_hw1/main/dataset2_test.csv\", header = None)\n",
        "dataset3_test = pd.read_csv(\"https://raw.githubusercontent.com/akimmi/EE559_hw1/main/dataset3_test.csv\", header = None)\n",
        "\n",
        "testing_datasets = [dataset1_test, dataset2_test, dataset3_test]"
      ],
      "metadata": {
        "id": "yXfTLzNuODxj"
      },
      "execution_count": null,
      "outputs": []
    },
    {
      "cell_type": "code",
      "source": [
        "#compute the class means\n",
        "\n",
        "# Step 1: csv files\n",
        "dataset1_train = pd.read_csv(\"https://raw.githubusercontent.com/akimmi/EE559_hw1/main/dataset1_train.csv\", header = None)\n",
        "dataset2_train = pd.read_csv(\"https://raw.githubusercontent.com/akimmi/EE559_hw1/main/dataset2_train.csv\", header = None)\n",
        "dataset3_train = pd.read_csv(\"https://raw.githubusercontent.com/akimmi/EE559_hw1/main/dataset3_train.csv\", header = None)\n",
        "\n",
        "training_datasets = [dataset1_train, dataset2_train, dataset3_train]\n",
        "# training_datasets = [dataset1_train]"
      ],
      "metadata": {
        "id": "xZ4pPgUgq23R"
      },
      "execution_count": null,
      "outputs": []
    },
    {
      "cell_type": "markdown",
      "source": [
        "# pltDecBoundaries Function Code\n",
        "\n",
        "Code given by Professor Jenkins."
      ],
      "metadata": {
        "id": "jR37Mb4AJijW"
      }
    },
    {
      "cell_type": "code",
      "source": [
        "# Plot the training data, the class means, the decision boundary, and decision regions\n",
        "def plotDecBoundaries(training, label_train, sample_mean, fsize=(6,4)):\n",
        "    \n",
        "    '''\n",
        "    Plot the decision boundaries and data points for minimum distance to\n",
        "    class mean classifier\n",
        "    \n",
        "    training: traning data, N x d matrix:\n",
        "        N: number of data points\n",
        "        d: number of features\n",
        "        if d > 2 then the first and second features will be plotted (1st and 2nd column (0 and 1 index))\n",
        "    label_train: class lables correspond to training data, N x 1 array:\n",
        "        N: number of data points\n",
        "        the labels should start numbering from 1 (not 0)\n",
        "        code works for up to 3 classes\n",
        "    sample_mean: mean vector for each class, C x d matrix:\n",
        "        C: number of classes\n",
        "        each row of the sample_mean matrix is the coordinate of each sample mean\n",
        "    '''\n",
        "\n",
        "    #\n",
        "    # Total number of classes\n",
        "    nclass =  max(np.unique(label_train))\n",
        "\n",
        "    # Set the feature range for ploting\n",
        "    max_x = np.ceil(max(training[:, 0])) + 1\n",
        "    min_x = np.floor(min(training[:, 0])) - 1\n",
        "    max_y = np.ceil(max(training[:, 1])) + 1\n",
        "    min_y = np.floor(min(training[:, 1])) - 1\n",
        "\n",
        "    xrange = (min_x, max_x)\n",
        "    yrange = (min_y, max_y)\n",
        "\n",
        "    # step size for how finely you want to visualize the decision boundary.\n",
        "    inc = 0.005\n",
        "\n",
        "    # generate grid coordinates. this will be the basis of the decision\n",
        "    # boundary visualization.\n",
        "    (x, y) = np.meshgrid(np.arange(xrange[0], xrange[1]+inc/100, inc), np.arange(yrange[0], yrange[1]+inc/100, inc))\n",
        "\n",
        "    # size of the (x, y) image, which will also be the size of the\n",
        "    # decision boundary image that is used as the plot background.\n",
        "    image_size = x.shape\n",
        "    xy = np.hstack( (x.reshape(x.shape[0]*x.shape[1], 1, order='F'), y.reshape(y.shape[0]*y.shape[1], 1, order='F')) ) # make (x,y) pairs as a bunch of row vectors.\n",
        "\n",
        "    # distance measure evaluations for each (x,y) pair.\n",
        "    dist_mat = cdist(xy, sample_mean)\n",
        "    pred_label = np.argmin(dist_mat, axis=1)\n",
        "\n",
        "    # reshape the idx (which contains the class label) into an image.\n",
        "    decisionmap = pred_label.reshape(image_size, order='F')\n",
        "\n",
        "\n",
        "\n",
        "    #show the image, give each coordinate a color according to its class label\n",
        "    plt.figure(figsize=fsize)\n",
        "    plt.imshow(decisionmap, extent=[xrange[0], xrange[1], yrange[0], yrange[1]], origin='lower')\n",
        "\n",
        "    # plot the class training data.\n",
        "    plt.plot(training[label_train == 1, 0],training[label_train == 1, 1], 'rx')\n",
        "    plt.plot(training[label_train == 2, 0],training[label_train == 2, 1], 'go')\n",
        "    if nclass == 3:\n",
        "        plt.plot(training[label_train == 3, 0],training[label_train == 3, 1], 'b*')\n",
        "\n",
        "    # include legend for training data\n",
        "    if nclass == 3:\n",
        "        l = plt.legend(('Class 1', 'Class 2', 'Class 3'), loc=2)\n",
        "    else:\n",
        "        l = plt.legend(('Class 1', 'Class 2'), loc=2)\n",
        "    plt.gca().add_artist(l)\n",
        "\n",
        "    # plot the class mean vector.\n",
        "    m1, = plt.plot(sample_mean[0,0], sample_mean[0,1], 'rd', markersize=12, markerfacecolor='r', markeredgecolor='w')\n",
        "    m2, = plt.plot(sample_mean[1,0], sample_mean[1,1], 'gd', markersize=12, markerfacecolor='g', markeredgecolor='w')\n",
        "    if nclass == 3:\n",
        "        m3, = plt.plot(sample_mean[2,0], sample_mean[2,1], 'bd', markersize=12, markerfacecolor='b', markeredgecolor='w')\n",
        "\n",
        "    # include legend for class mean vector\n",
        "    if nclass == 3:\n",
        "        l1 = plt.legend([m1,m2,m3],['Class 1 Mean', 'Class 2 Mean', 'Class 3 Mean'], loc=4)\n",
        "    else:\n",
        "        l1 = plt.legend([m1,m2], ['Class 1 Mean', 'Class 2 Mean'], loc=4)\n",
        "\n",
        "    plt.gca().add_artist(l1)\n",
        "\n",
        "    plt.show()"
      ],
      "metadata": {
        "id": "ZE87uT42u_7F"
      },
      "execution_count": null,
      "outputs": []
    },
    {
      "cell_type": "markdown",
      "source": [
        "# Part A"
      ],
      "metadata": {
        "id": "aSbuRpd3KF1g"
      }
    },
    {
      "cell_type": "markdown",
      "source": [
        "Function to seperate the feature columns and label column into np arrays of the appropriate size this code works for any size (hopefully)\n",
        "\n",
        "\n",
        "I/O: pandas DataFrame -> np.array, np.array"
      ],
      "metadata": {
        "id": "izHp3pxRXRA-"
      }
    },
    {
      "cell_type": "code",
      "source": [
        "def get_features_label(df):\n",
        "  class_column = len(df.columns) - 1 # index of the last column where class is\n",
        "  classes = np.unique(df[class_column]) # an array of all classes in the dataset\n",
        "\n",
        "  features = df.iloc[:, df.columns[:class_column]].values # Getting all feature columns into np array 2D\n",
        "  label = df[class_column].values # get class column as an np array\n",
        "\n",
        "  return features, label\n"
      ],
      "metadata": {
        "id": "hFTe4chaRTHT"
      },
      "execution_count": null,
      "outputs": []
    },
    {
      "cell_type": "markdown",
      "source": [
        "Function calculates the mean of each column (that is not the class column/last)\n",
        "\n",
        "I/O: pandas dataframe -> np Array"
      ],
      "metadata": {
        "id": "-vW39Vg4XZfL"
      }
    },
    {
      "cell_type": "code",
      "source": [
        "def calculate_mean(features, labels):\n",
        "  # Get unique labels\n",
        "  unique_labels = np.unique(labels)\n",
        "  try:\n",
        "    num_features = features.shape[1]\n",
        "    mean_arr = np.zeros((len(np.unique(y)), num_features))\n",
        "  except IndexError:\n",
        "    num_features = 1\n",
        "    mean_arr = np.zeros(2)\n",
        "  # Initiliaze a 2D numpy array to hold mean values\n",
        "  \n",
        "\n",
        "  for i, label in enumerate(unique_labels): # iterate for every class\n",
        "    # filter by labels:\n",
        "    filtered_features = features[np.where(labels == label)]\n",
        "\n",
        "    for n in range(num_features): # iterate for every column\n",
        "      # Calculate mean of the array and store in the matrix appropriately\n",
        "      if num_features == 1:\n",
        "        mean_arr[i] = np.mean(filtered_features)\n",
        "      else:\n",
        "        mean_arr[i][n] = np.mean(filtered_features[:, n])\n",
        "  \n",
        "  # Return 2D Array of Means\n",
        "  return mean_arr"
      ],
      "metadata": {
        "id": "RmsTmxrzCAjT"
      },
      "execution_count": null,
      "outputs": []
    },
    {
      "cell_type": "code",
      "source": [
        "x, y = get_features_label(dataset1_train)\n",
        "print(calculate_mean(x, y))"
      ],
      "metadata": {
        "colab": {
          "base_uri": "https://localhost:8080/"
        },
        "id": "6TNKImSsVzEz",
        "outputId": "56a1eb22-da9e-467c-853f-9897bab0e848"
      },
      "execution_count": null,
      "outputs": [
        {
          "output_type": "stream",
          "name": "stdout",
          "text": [
            "[[0.08893115 1.08956606]\n",
            " [1.04128622 0.01994688]]\n"
          ]
        }
      ]
    },
    {
      "cell_type": "code",
      "source": [
        "a = np.array([[1, 2], [3, 4], [5, 6]])\n",
        "b = np.array([0, 1, 0])\n",
        "\n",
        "# find unique values in b\n",
        "unique_b = np.unique(b)\n",
        "\n",
        "# create empty list to store group results\n",
        "grouped_a = []\n",
        "\n",
        "# iterate over unique values in b\n",
        "for value in unique_b:\n",
        "    # create a mask for current value\n",
        "    mask = np.where(b == value)\n",
        "    print(mask)\n",
        "    # apply mask to a and append result to grouped_a\n",
        "    grouped_a.append(a[mask])\n",
        "\n",
        "print(grouped_a)"
      ],
      "metadata": {
        "colab": {
          "base_uri": "https://localhost:8080/"
        },
        "id": "r1HHXBHaK5r7",
        "outputId": "3ed8fffa-6ee4-4f7b-bac8-7b012360ecfa"
      },
      "execution_count": null,
      "outputs": [
        {
          "output_type": "stream",
          "name": "stdout",
          "text": [
            "(array([0, 2]),)\n",
            "(array([1]),)\n",
            "[array([[1, 2],\n",
            "       [5, 6]]), array([[3, 4]])]\n"
          ]
        }
      ]
    },
    {
      "cell_type": "markdown",
      "source": [
        "Classification Error Function, counts the number of misclassified points and calculates the % error\n",
        "\n",
        "I/O: features, labels, mean_arr -> double (%)"
      ],
      "metadata": {
        "id": "Q4ejQApZvBll"
      }
    },
    {
      "cell_type": "code",
      "source": [
        "def classification_error(features, labels, mean_arr):\n",
        "  count = 0\n",
        "  #iterating through all feature points\n",
        "  for ix, feature_point in enumerate(features): \n",
        "\n",
        "    # make a list of length(mean_arr) to hold all distances from feature to mean\n",
        "    distance = np.zeros(len(mean_arr))\n",
        "\n",
        "    # Calculate all distances and append to distance list \n",
        "    for mean_ix in range(len(mean_arr)):\n",
        "      # calculating Euclidean distance and adding to the list\n",
        "      distance[mean_ix] = np.linalg.norm(feature_point - mean_arr[mean_ix])\n",
        "    \n",
        "    # Decide if classification was correct\n",
        "    if distance.argmin() + 1 != labels[ix]:\n",
        "      count += 1\n",
        "\n",
        "  return (count / len(features)) * 100"
      ],
      "metadata": {
        "id": "NL6K9ng_vBO-"
      },
      "execution_count": null,
      "outputs": []
    },
    {
      "cell_type": "markdown",
      "source": [
        "Printing Plots of Decicion Boundaries for all traning datasets"
      ],
      "metadata": {
        "id": "IW2fxZHEXi6X"
      }
    },
    {
      "cell_type": "code",
      "source": [
        "list_means = [] # Used to store the mean arrays of all traning datasets\n",
        "\n",
        "for dataset in training_datasets: # Run for every dataset\n",
        "  features, labels = get_features_label(dataset) # get features and label \n",
        "  mean_arr = calculate_mean(features, labels) # Calculate the mean\n",
        "\n",
        "  list_means.append(mean_arr) # Store in this list for training dataset Classification error calc.\n",
        "  # Note these are stored as numpy arrays inside a list -> [Array([...]), Array([...]), ...]\n",
        "\n",
        "  # Plot Decision Boundaries\n",
        "  plotDecBoundaries(features,\n",
        "                    labels,\n",
        "                    mean_arr)\n",
        "  percentage = classification_error(features,\n",
        "                             labels,\n",
        "                             mean_arr)\n",
        "  print(f\"Classification Error: {percentage}%\\n\\n\")"
      ],
      "metadata": {
        "colab": {
          "base_uri": "https://localhost:8080/",
          "height": 901
        },
        "id": "7o5mZikswSpc",
        "outputId": "5db7709c-0011-420a-ccc2-3678654af152"
      },
      "execution_count": null,
      "outputs": [
        {
          "output_type": "display_data",
          "data": {
            "text/plain": [
              "<Figure size 432x288 with 1 Axes>"
            ],
            "image/png": "[encoded data removed]"
          },
          "metadata": {
            "needs_background": "light"
          }
        },
        {
          "output_type": "stream",
          "name": "stdout",
          "text": [
            "Classification Error: 0.0%\n",
            "\n",
            "\n"
          ]
        },
        {
          "output_type": "display_data",
          "data": {
            "text/plain": [
              "<Figure size 432x288 with 1 Axes>"
            ],
            "image/png": "[encoded data removed]"
          },
          "metadata": {
            "needs_background": "light"
          }
        },
        {
          "output_type": "stream",
          "name": "stdout",
          "text": [
            "Classification Error: 17.0%\n",
            "\n",
            "\n"
          ]
        },
        {
          "output_type": "display_data",
          "data": {
            "text/plain": [
              "<Figure size 432x288 with 1 Axes>"
            ],
            "image/png": "[encoded data removed]"
          },
          "metadata": {
            "needs_background": "light"
          }
        },
        {
          "output_type": "stream",
          "name": "stdout",
          "text": [
            "Classification Error: 23.0%\n",
            "\n",
            "\n"
          ]
        }
      ]
    },
    {
      "cell_type": "markdown",
      "source": [
        "Classification Error for all testing datasets"
      ],
      "metadata": {
        "id": "wC72uewW6iEH"
      }
    },
    {
      "cell_type": "code",
      "source": [
        "for index in range(len(testing_datasets)):\n",
        "  features, labels = get_features_label(testing_datasets[index])\n",
        "  percentage = classification_error(features, labels, list_means[index])\n",
        "  print(f\"Testing Dataset {index + 1} | Classification Error: {percentage}%\")\n"
      ],
      "metadata": {
        "id": "JdcIzxbpfX0o",
        "colab": {
          "base_uri": "https://localhost:8080/"
        },
        "outputId": "fbf63c31-42ba-421a-d467-e091755183f8"
      },
      "execution_count": null,
      "outputs": [
        {
          "output_type": "stream",
          "name": "stdout",
          "text": [
            "Testing Dataset 1 | Classification Error: 0.0%\n",
            "Testing Dataset 2 | Classification Error: 26.0%\n",
            "Testing Dataset 3 | Classification Error: 23.0%\n"
          ]
        }
      ]
    },
    {
      "cell_type": "markdown",
      "source": [
        "# Part B\n"
      ],
      "metadata": {
        "id": "pbiKTepZJq3A"
      }
    },
    {
      "cell_type": "markdown",
      "source": [],
      "metadata": {
        "id": "5BMND4gVSuge"
      }
    },
    {
      "cell_type": "markdown",
      "source": [
        "# Part C\n",
        "\n",
        "The function below normalizes the feature columns in a dataframe (using numpy arrays but because of the input to calculate_mean and get_features_label we return a dataframe)"
      ],
      "metadata": {
        "id": "34wp2n_DYX69"
      }
    },
    {
      "cell_type": "code",
      "source": [
        "# def normalize(df, mean_std = None):\n",
        "#   class_column = len(df.columns) - 1 # index of the last column where class is\n",
        "\n",
        "#   data = df.iloc[:, df.columns[:class_column]].values # Getting all feature columns into np array 2D\n",
        "\n",
        "#   if mean_std:\n",
        "#     df.iloc[:, df.columns[:class_column]] = ((data - mean_std[0]) / mean_std[1])\n",
        "#     return df\n",
        "\n",
        "#   means = np.mean(data, axis=0)\n",
        "#   stds = np.std(data, axis=0)\n",
        "#   df.iloc[:, df.columns[:class_column]] = ((data - means) / stds)\n",
        "#   return df, [means, stds]"
      ],
      "metadata": {
        "id": "YA2DAAl7TmdM"
      },
      "execution_count": null,
      "outputs": []
    },
    {
      "cell_type": "code",
      "source": [
        "def normalize(features, labels, mean_std = None):\n",
        "  if mean_std:\n",
        "    return (features - mean_std[0]) / mean_std[1]\n",
        "  \n",
        "  means = np.mean(features, axis = 0)\n",
        "  stds = np.std(features, axis = 0)\n",
        "  return (features - means) / stds, [means, stds]"
      ],
      "metadata": {
        "id": "gWXTNzaWFso2"
      },
      "execution_count": null,
      "outputs": []
    },
    {
      "cell_type": "markdown",
      "source": [
        "Here we are normalizing the data before we calculate the means and extract features and labels."
      ],
      "metadata": {
        "id": "OU-ouap8ccHG"
      }
    },
    {
      "cell_type": "code",
      "source": [
        "list_means = [] # Used to store the mean arrays of all traning datasets\n",
        "list_mean_std = []\n",
        "training_mean_std = None\n",
        "\n",
        "for dataset in training_datasets: # Run for every dataset\n",
        "  features, labels = get_features_label(dataset) # get features and label\n",
        "  # dataset, training_mean_std = normalize(dataset) # Normalizing data\n",
        "  features, training_mean_std = normalize(features, labels)\n",
        "  list_mean_std.append(training_mean_std) # Saving these for testing datasets\n",
        "\n",
        "  mean_arr = calculate_mean(features, labels) # Calculate the mean\n",
        "\n",
        "  list_means.append(mean_arr) # Store in this list for training dataset Classification error calc.\n",
        "  # Note these are stored as numpy arrays inside a list -> [Array([...]), Array([...]), ...]\n",
        "  \n",
        "  # Plot Decision Boundaries\n",
        "  plotDecBoundaries(features,\n",
        "                    labels,\n",
        "                    mean_arr)\n",
        "  percentage = classification_error(features,\n",
        "                             labels,\n",
        "                             mean_arr)\n",
        "  print(f\"Classification Error: {percentage}%\\n\\n\")"
      ],
      "metadata": {
        "colab": {
          "base_uri": "https://localhost:8080/",
          "height": 936
        },
        "id": "6hKH-Yr1Ss49",
        "outputId": "a8b93355-2a0d-4117-c27a-497ec7b47da4"
      },
      "execution_count": null,
      "outputs": [
        {
          "output_type": "display_data",
          "data": {
            "text/plain": [
              "<Figure size 432x288 with 1 Axes>"
            ],
            "image/png": "[encoded data removed]"
          },
          "metadata": {
            "needs_background": "light"
          }
        },
        {
          "output_type": "stream",
          "name": "stdout",
          "text": [
            "Classification Error: 0.0%\n",
            "\n",
            "\n"
          ]
        },
        {
          "output_type": "display_data",
          "data": {
            "text/plain": [
              "<Figure size 432x288 with 1 Axes>"
            ],
            "image/png": "[encoded data removed]"
          },
          "metadata": {
            "needs_background": "light"
          }
        },
        {
          "output_type": "stream",
          "name": "stdout",
          "text": [
            "Classification Error: 0.0%\n",
            "\n",
            "\n"
          ]
        },
        {
          "output_type": "display_data",
          "data": {
            "text/plain": [
              "<Figure size 432x288 with 1 Axes>"
            ],
            "image/png": "[encoded data removed]"
          },
          "metadata": {
            "needs_background": "light"
          }
        },
        {
          "output_type": "stream",
          "name": "stdout",
          "text": [
            "Classification Error: 24.0%\n",
            "\n",
            "\n"
          ]
        }
      ]
    },
    {
      "cell_type": "markdown",
      "source": [
        "Summary of classification error for training datasets"
      ],
      "metadata": {
        "id": "iwLcjuw-qusZ"
      }
    },
    {
      "cell_type": "code",
      "source": [
        "for index in range(len(training_datasets)):\n",
        "  features, labels = get_features_label(training_datasets[index])\n",
        "  dataset, means = normalize(features, labels)\n",
        "  percentage = classification_error(features, labels, list_means[index])\n",
        "  print(f\"Training Dataset {index + 1} | Classification Error: {percentage}%\")"
      ],
      "metadata": {
        "colab": {
          "base_uri": "https://localhost:8080/"
        },
        "id": "mRJOEwwcqvnk",
        "outputId": "2a87339c-5da4-4220-dd4d-3625fe012a5c"
      },
      "execution_count": null,
      "outputs": [
        {
          "output_type": "stream",
          "name": "stdout",
          "text": [
            "Training Dataset 1 | Classification Error: 0.0%\n",
            "Training Dataset 2 | Classification Error: 10.0%\n",
            "Training Dataset 3 | Classification Error: 26.0%\n"
          ]
        }
      ]
    },
    {
      "cell_type": "markdown",
      "source": [
        "Normalizing and calculating the classifiction error for testing datasets"
      ],
      "metadata": {
        "id": "ANFOuPLIcdc9"
      }
    },
    {
      "cell_type": "code",
      "source": [
        "for index in range(len(testing_datasets)):\n",
        "  features, labels = get_features_label(testing_datasets[index])\n",
        "  dataset = normalize(features, labels)\n",
        "  \n",
        "  percentage = classification_error(features, labels, list_means[index])\n",
        "  print(f\"Testing Dataset {index + 1} | Classification Error: {percentage}%\")"
      ],
      "metadata": {
        "colab": {
          "base_uri": "https://localhost:8080/"
        },
        "id": "ZsBfEgYYZvRs",
        "outputId": "8bf466a2-b889-4462-8a80-e384a581dbaa"
      },
      "execution_count": null,
      "outputs": [
        {
          "output_type": "stream",
          "name": "stdout",
          "text": [
            "Testing Dataset 1 | Classification Error: 0.0%\n",
            "Testing Dataset 2 | Classification Error: 18.0%\n",
            "Testing Dataset 3 | Classification Error: 28.999999999999996%\n"
          ]
        }
      ]
    },
    {
      "cell_type": "markdown",
      "source": [
        "# Part D"
      ],
      "metadata": {
        "id": "CJjS2jCxYZhR"
      }
    },
    {
      "cell_type": "markdown",
      "source": [
        "# Part E"
      ],
      "metadata": {
        "id": "1TC93VePYqhW"
      }
    },
    {
      "cell_type": "markdown",
      "source": [
        "Creating Direction Vectors to project on"
      ],
      "metadata": {
        "id": "0nXuEKratiJc"
      }
    },
    {
      "cell_type": "code",
      "source": [
        "rm = [] # initializing a list and not np.empty because you can't append empty with an np array\n",
        "for m in range(40): # range(40) since there are 40 different vectors\n",
        "  if m < 10:\n",
        "    rm.append(np.array((10, m)))\n",
        "  elif m < 30:\n",
        "    rm.append(np.array((20 - m, 10)))\n",
        "  else:\n",
        "    rm.append(np.array((-10, 40 - m)))\n",
        "\n",
        "rm = np.array(rm)"
      ],
      "metadata": {
        "id": "iOYddsnglDqO"
      },
      "execution_count": null,
      "outputs": []
    },
    {
      "cell_type": "markdown",
      "source": [
        "Function projects the an array of features ont the rm vectors we calculated above. This returns a 1D vector of feature space"
      ],
      "metadata": {
        "id": "ZxEV1t8Dtmkf"
      }
    },
    {
      "cell_type": "code",
      "source": [
        "def project(features, r_sub_m):\n",
        "  # using .T here to make these lists into matrixes so that there are no shape erros\n",
        "  return np.dot(r_sub_m.T, features.T) / (np.linalg.norm(r_sub_m))"
      ],
      "metadata": {
        "id": "CWLm7YgZvchi"
      },
      "execution_count": null,
      "outputs": []
    },
    {
      "cell_type": "code",
      "source": [
        "def calculate_projection_errors(train_features, train_labels, test_features, test_labels):\n",
        "  train1_data_norm, trn_mean_std = normalize(train_features, train_labels)\n",
        "\n",
        "  test1_data_norm, tst_mean_std = normalize(test_features, test_labels)\n",
        "\n",
        "  error_rate = []\n",
        "\n",
        "  for ri in rm:\n",
        "    projected_x = project(train1_data_norm, ri)\n",
        "    mean_arr_proj = calculate_mean(projected_x, train_labels)\n",
        "    # print(mean_arr_proj)\n",
        "    err_rate = classification_error(projected_x, train_labels, mean_arr_proj)\n",
        "    error_rate.append(err_rate)\n",
        "\n",
        "  # plot the projection errors calculates\n",
        "  plt.plot(np.arange(len(error_rate)), error_rate)\n",
        "  plt.title(\"Error vs m\")\n",
        "  plt.xlabel(\"m\")\n",
        "  plt.ylabel(\"Error Percentage (%)\")\n",
        "  plt.show()\n",
        "\n",
        "  print(\"\\n\\n\")\n",
        "\n",
        "  optimal_m = error_rate.index(min(error_rate))\n",
        "  rm_optimal = []\n",
        "  if optimal_m < 10:\n",
        "    rm_optimal.append(np.array((10, optimal_m)))\n",
        "  elif optimal_m < 30:\n",
        "    rm_optimal.append(np.array((20 - optimal_m, 10)))\n",
        "  else:\n",
        "    rm_optimal.append(np.array((-10, 40 - optimal_m)))\n",
        "\n",
        "  \n",
        "  # Couldn't finsh \n",
        "  \n",
        "\n"
      ],
      "metadata": {
        "id": "6T3n7kLA1pFb"
      },
      "execution_count": null,
      "outputs": []
    },
    {
      "cell_type": "code",
      "source": [
        "for i in range(len(training_datasets)):\n",
        "  train_features, train_labels = get_features_label(training_datasets[i]) \n",
        "  test_features, test_labels = get_features_label(testing_datasets[i])\n",
        "\n",
        "  calculate_projection_errors(train_features, \n",
        "                              train_labels, \n",
        "                              test_features, \n",
        "                              test_labels\n",
        "                              )"
      ],
      "metadata": {
        "colab": {
          "base_uri": "https://localhost:8080/",
          "height": 1000
        },
        "id": "cgF6_TpJSZE4",
        "outputId": "ff044ca9-381b-4fff-e11f-817277e63cfe"
      },
      "execution_count": null,
      "outputs": [
        {
          "output_type": "display_data",
          "data": {
            "text/plain": [
              "<Figure size 432x288 with 1 Axes>"
            ],
            "image/png": "[encoded data removed]"
          },
          "metadata": {
            "needs_background": "light"
          }
        },
        {
          "output_type": "stream",
          "name": "stdout",
          "text": [
            "\n",
            "\n",
            "\n"
          ]
        },
        {
          "output_type": "display_data",
          "data": {
            "text/plain": [
              "<Figure size 432x288 with 1 Axes>"
            ],
            "image/png": "[encoded data removed]"
          },
          "metadata": {
            "needs_background": "light"
          }
        },
        {
          "output_type": "stream",
          "name": "stdout",
          "text": [
            "\n",
            "\n",
            "\n"
          ]
        },
        {
          "output_type": "display_data",
          "data": {
            "text/plain": [
              "<Figure size 432x288 with 1 Axes>"
            ],
            "image/png": "[encoded data removed]"
          },
          "metadata": {
            "needs_background": "light"
          }
        },
        {
          "output_type": "stream",
          "name": "stdout",
          "text": [
            "\n",
            "\n",
            "\n"
          ]
        }
      ]
    },
    {
      "cell_type": "markdown",
      "source": [
        "For some reason, my charts are flipped, and I couldn't figure out why this was happening."
      ],
      "metadata": {
        "id": "9CU_DJVqWuaQ"
      }
    },
    {
      "cell_type": "markdown",
      "source": [
        "# Part F"
      ],
      "metadata": {
        "id": "b1UVMCwEYtfN"
      }
    }
  ]
}